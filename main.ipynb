{
 "cells": [
  {
   "cell_type": "markdown",
   "metadata": {
    "pycharm": {
     "metadata": false
    }
   },
   "source": [
    "## Install requirements\n"
   ]
  },
  {
   "cell_type": "code",
   "execution_count": 2,
   "metadata": {},
   "outputs": [
    {
     "name": "stdout",
     "output_type": "stream",
     "text": [
      "Collecting torch==1.1.0 from https://download.pytorch.org/whl/cu100/torch-1.1.0-cp36-cp36m-linux_x86_64.whl\n",
      "\u001b[?25l  Downloading https://download.pytorch.org/whl/cu100/torch-1.1.0-cp36-cp36m-linux_x86_64.whl (770.7MB)\n",
      "\u001b[K     |████████████████████████████████| 770.7MB 77kB/s  eta 0:00:013    |██                              | 47.9MB 10.7MB/s eta 0:01:08     |████████████████                | 386.7MB 687kB/s eta 0:09:19     |████████████████████▎           | 487.2MB 12.3MB/s eta 0:00:24     |██████████████████████▎         | 537.7MB 63.9MB/s eta 0:00:04███████████████████████▋      | 617.7MB 11.5MB/s eta 0:00:14\n",
      "\u001b[?25hRequirement already satisfied: numpy in ./.venv3/lib/python3.6/site-packages (from torch==1.1.0) (1.16.4)\n",
      "Installing collected packages: torch\n",
      "Successfully installed torch-1.1.0\n",
      "Collecting torchvision==0.3.0 from https://download.pytorch.org/whl/cu100/torchvision-0.3.0-cp36-cp36m-linux_x86_64.whl\n",
      "\u001b[?25l  Downloading https://download.pytorch.org/whl/cu100/torchvision-0.3.0-cp36-cp36m-linux_x86_64.whl (2.6MB)\n",
      "\u001b[K     |████████████████████████████████| 2.6MB 403kB/s eta 0:00:01\n",
      "\u001b[?25hRequirement already satisfied: six in ./.venv3/lib/python3.6/site-packages (from torchvision==0.3.0) (1.12.0)\n",
      "Collecting pillow>=4.1.1 (from torchvision==0.3.0)\n",
      "\u001b[?25l  Downloading https://files.pythonhosted.org/packages/14/41/db6dec65ddbc176a59b89485e8cc136a433ed9c6397b6bfe2cd38412051e/Pillow-6.1.0-cp36-cp36m-manylinux1_x86_64.whl (2.1MB)\n",
      "\u001b[K     |████████████████████████████████| 2.1MB 5.1MB/s eta 0:00:01     |███████████▎                    | 727kB 5.1MB/s eta 0:00:01\n",
      "\u001b[?25hRequirement already satisfied: numpy in ./.venv3/lib/python3.6/site-packages (from torchvision==0.3.0) (1.16.4)\n",
      "Requirement already satisfied: torch>=1.1.0 in ./.venv3/lib/python3.6/site-packages (from torchvision==0.3.0) (1.1.0)\n",
      "Installing collected packages: pillow, torchvision\n",
      "Successfully installed pillow-6.1.0 torchvision-0.3.0\n",
      "Collecting tensorboardX\n",
      "\u001b[?25l  Downloading https://files.pythonhosted.org/packages/a2/57/2f0a46538295b8e7f09625da6dd24c23f9d0d7ef119ca1c33528660130d5/tensorboardX-1.7-py2.py3-none-any.whl (238kB)\n",
      "\u001b[K     |████████████████████████████████| 245kB 9.2MB/s eta 0:00:01\n",
      "\u001b[?25hRequirement already satisfied: numpy in ./.venv3/lib/python3.6/site-packages (from tensorboardX) (1.16.4)\n",
      "Collecting protobuf>=3.2.0 (from tensorboardX)\n",
      "\u001b[?25l  Downloading https://files.pythonhosted.org/packages/d2/fb/29de8d08967f0cce1bb10b39846d836b0f3bf6776ddc36aed7c73498ca7e/protobuf-3.8.0-cp36-cp36m-manylinux1_x86_64.whl (1.2MB)\n",
      "\u001b[K     |████████████████████████████████| 1.2MB 9.4MB/s eta 0:00:01\n",
      "\u001b[?25hRequirement already satisfied: six in ./.venv3/lib/python3.6/site-packages (from tensorboardX) (1.12.0)\n",
      "Requirement already satisfied: setuptools in ./.venv3/lib/python3.6/site-packages (from protobuf>=3.2.0->tensorboardX) (41.0.1)\n",
      "Installing collected packages: protobuf, tensorboardX\n",
      "Successfully installed protobuf-3.8.0 tensorboardX-1.7\n"
     ]
    }
   ],
   "source": [
    "!pip install https://download.pytorch.org/whl/cu100/torch-1.1.0-cp36-cp36m-linux_x86_64.whl\n",
    "!pip install https://download.pytorch.org/whl/cu100/torchvision-0.3.0-cp36-cp36m-linux_x86_64.whl\n",
    "!pip install tensorboardX\n",
    "!pip install scikit-learn"
   ]
  },
  {
   "cell_type": "code",
   "execution_count": 3,
   "metadata": {
    "pycharm": {
     "metadata": false,
     "name": "#%%\n"
    }
   },
   "outputs": [],
   "source": [
    "import os\n",
    "import datetime\n",
    "\n",
    "import torch\n",
    "import torch.nn as nn\n",
    "import torch.optim as optim\n",
    "from tensorboardX import SummaryWriter"
   ]
  },
  {
   "cell_type": "code",
   "execution_count": 4,
   "metadata": {
    "pycharm": {
     "name": "#%%\n"
    }
   },
   "outputs": [
    {
     "name": "stdout",
     "output_type": "stream",
     "text": [
      "leyendo /data/jeperez/COCO-2014-spanish/train/train_images_names.txt\n",
      "leyendo /data/jeperez/COCO-2014-spanish/train/train_images_vectors.bin\n",
      "20000 vectores de largo 2048\n",
      "leyendo /data/jeperez/COCO-2014-spanish/train/train_captions.txt\n",
      "leyendo /data/jeperez/COCO-2014-spanish/test_A/test_A_images_names.txt\n",
      "leyendo /data/jeperez/COCO-2014-spanish/test_A/test_A_images_vectors.bin\n",
      "1000 vectores de largo 2048\n",
      "leyendo /data/jeperez/COCO-2014-spanish/test_A/test_A_captions.txt\n",
      "COCO_train2014_000000000086.jpg: Un hombre en un una vieja bicicleta de moda en el bosque\n",
      "COCO_train2014_000000000086.jpg: Un hombre montado en una bicicleta de motor a través de un bosque.\n",
      "COCO_train2014_000000000086.jpg: Un hombre sentado en una motocicleta en el bosque.\n",
      "COCO_train2014_000000000086.jpg: Una persona que mira hacia abajo en algo mientras está sentado en una bicicleta.\n",
      "COCO_train2014_000000000086.jpg: Una persona joven está en una vieja bicicleta muy adornado.\n",
      "COCO_train2014_000000000077.jpg: un grupo de adolescentes saltando una rampa en sus monopatines\n",
      "COCO_train2014_000000000077.jpg: Una imagen de lapso de tiempo de un individuo en una tabla de skate.\n",
      "COCO_train2014_000000000077.jpg: Un hombre joven que monta un patín en el aire.\n",
      "COCO_train2014_000000000077.jpg: Grupo de niños que realizan truco patín en rampa con la pintada en ella\n",
      "COCO_train2014_000000000077.jpg: algunos patinadores masculinos están haciendo algunos trucos y graffiti\n"
     ]
    }
   ],
   "source": [
    "from data import get_loader, load_coco_files\n",
    "\n",
    "phases = ['train', 'test_A']\n",
    "batch_size = {'train': 200, 'test_A': 1000}\n",
    "shuffle = {'train': True, 'test_A': False}\n",
    "num_workers = {'train': 4, 'test_A': 1}\n",
    "pin_memory = {'train': True, 'test_A': False}\n",
    "\n",
    "loaders = {}\n",
    "for phase in phases:\n",
    "    folder_dir = os.path.join('/data/jeperez/COCO-2014-spanish/', phase)\n",
    "    file_names = os.path.join(folder_dir, '{}_images_names.txt'.format(phase))\n",
    "    file_vectors = os.path.join(folder_dir, '{}_images_vectors.bin'.format(phase))\n",
    "    file_captions = os.path.join(folder_dir, '{}_captions.txt'.format(phase))\n",
    "    images_names, visual_feats, captions = load_coco_files(file_names, file_vectors, file_captions, 2048)\n",
    "    loaders[phase] = get_loader(images_names, visual_feats, captions, batch_size[phase], shuffle[phase], \n",
    "                              num_workers[phase], pin_memory[phase])\n",
    "    \n",
    "    if phase == 'train':\n",
    "        train_names, train_texts = zip(*captions)\n",
    "\n",
    "for s in ['{}: {}'.format(n, s) for n,s in zip(train_names[0:10], train_texts[0:10])]:\n",
    "    print(s)"
   ]
  },
  {
   "cell_type": "markdown",
   "metadata": {},
   "source": [
    "## Defines the divice to be used"
   ]
  },
  {
   "cell_type": "code",
   "execution_count": 6,
   "metadata": {},
   "outputs": [
    {
     "name": "stdout",
     "output_type": "stream",
     "text": [
      "cuda:0\n"
     ]
    }
   ],
   "source": [
    "from utils import get_freer_gpu\n",
    "\n",
    "device = 'gpu'\n",
    "\n",
    "if device == 'gpu' and torch.cuda.is_available():\n",
    "    freer_gpu_id = get_freer_gpu()\n",
    "    device = torch.device('cuda:{}'.format(freer_gpu_id))\n",
    "    torch.cuda.empty_cache()\n",
    "else:\n",
    "    device = torch.device('cpu')\n",
    "\n",
    "print(device)"
   ]
  },
  {
   "cell_type": "markdown",
   "metadata": {
    "pycharm": {
     "metadata": false
    }
   },
   "source": [
    "## Seleccionar el modelo para representación de los textos\n"
   ]
  },
  {
   "cell_type": "code",
   "execution_count": 7,
   "metadata": {
    "pycharm": {
     "metadata": false,
     "name": "#%%\n"
    }
   },
   "outputs": [
    {
     "name": "stdout",
     "output_type": "stream",
     "text": [
      "descriptor size: 300\n"
     ]
    }
   ],
   "source": [
    "text_descriptor_name = 'embedding'\n",
    "\n",
    "if text_descriptor_name == 'bow':\n",
    "    from text_descriptors.bow import TextDescriptor\n",
    "    text_descriptor = TextDescriptor(type='bow', texts=train_texts, lowecase=False, ngram_range=(1,1), \n",
    "                                     max_df=.8, min_df=.01)\n",
    "    print(text_descriptor.descriptor.vocabulary_)\n",
    "elif text_descriptor_name == 'tf-idf':\n",
    "    from text_descriptors.bow import TextDescriptor\n",
    "    text_descriptor = TextDescriptor(type='tf-idf', texts=train_texts, lowecase=False, ngram_range=(1,3), \n",
    "                                     max_df=.8, min_df=.01)\n",
    "    print(text_descriptor.descriptor.vocabulary_)\n",
    "elif text_descriptor_name == 'lsa':\n",
    "    from text_descriptors.lsa import LSADescriptor\n",
    "    text_descriptor = LSADescriptor(type='tf-idf', texts=train_texts, lowecase=False, ngram_range=(1,3), \n",
    "                                    max_df=.8, min_df=.01, n_components=100)\n",
    "elif text_descriptor_name == 'embedding':\n",
    "    from text_descriptors.embedding import WordEmbedding\n",
    "    text_descriptor = WordEmbedding(texts=train_texts, lowecase=False, ngram_range=(1,1), max_df=.8, min_df=.01)\n",
    "else:\n",
    "    raise 'unknown descriptor {}'.format(text_descriptor_name)\n",
    "\n",
    "print('descriptor size: {}'.format(text_descriptor.out_size))\n"
   ]
  },
  {
   "cell_type": "markdown",
   "metadata": {
    "pycharm": {
     "metadata": false
    }
   },
   "source": [
    "## Initialize the Regressor\n"
   ]
  },
  {
   "cell_type": "code",
   "execution_count": 14,
   "metadata": {
    "pycharm": {
     "metadata": false,
     "name": "#%% \n"
    }
   },
   "outputs": [
    {
     "data": {
      "text/plain": [
       "RNN(\n",
       "  (rnn): GRU(300, 2048, num_layers=2, batch_first=True, dropout=0.2, bidirectional=True)\n",
       ")"
      ]
     },
     "execution_count": 14,
     "metadata": {},
     "output_type": "execute_result"
    }
   ],
   "source": [
    "from text_encoders.regressor import MLP, RNN\n",
    "\n",
    "regression_model_name = 'rnn' # ['mlp', 'rnn']\n",
    "\n",
    "if regression_model_name == 'mlp':\n",
    "    regression_model = MLP(in_size=text_descriptor.out_size, h_size=5096, out_size=2048)\n",
    "elif text_descriptor_name == 'embedding' and regression_model_name == 'rnn':\n",
    "    regression_model = RNN(in_size=text_descriptor.out_size, h_size=2048)\n",
    "else:\n",
    "    raise 'unknown configuration: {} + {}'.format(text_descriptor_name, regression_model_name)\n",
    "    \n",
    "regression_model.to(device)\n",
    "\n",
    "regression_model"
   ]
  },
  {
   "cell_type": "markdown",
   "metadata": {
    "pycharm": {
     "metadata": false,
     "name": "#%% md\n"
    }
   },
   "source": [
    "## loss function and optimizer\n"
   ]
  },
  {
   "cell_type": "code",
   "execution_count": 15,
   "metadata": {
    "pycharm": {
     "metadata": false,
     "name": "#%%\n"
    }
   },
   "outputs": [
    {
     "data": {
      "text/plain": [
       "MSELoss()"
      ]
     },
     "execution_count": 15,
     "metadata": {},
     "output_type": "execute_result"
    }
   ],
   "source": [
    "criterion = nn.MSELoss()\n",
    "\n",
    "criterion"
   ]
  },
  {
   "cell_type": "markdown",
   "metadata": {
    "pycharm": {
     "metadata": false,
     "name": "#%% md\n"
    }
   },
   "source": [
    "## optimizers\n"
   ]
  },
  {
   "cell_type": "code",
   "execution_count": 16,
   "metadata": {
    "pycharm": {
     "metadata": false,
     "name": "#%%\n"
    }
   },
   "outputs": [
    {
     "data": {
      "text/plain": [
       "Adam (\n",
       "Parameter Group 0\n",
       "    amsgrad: False\n",
       "    betas: (0.9, 0.999)\n",
       "    eps: 1e-08\n",
       "    lr: 0.001\n",
       "    weight_decay: 0\n",
       ")"
      ]
     },
     "execution_count": 16,
     "metadata": {},
     "output_type": "execute_result"
    }
   ],
   "source": [
    "encoder_optimizer = optim.Adam(regression_model.parameters(), lr=0.001)\n",
    "if text_descriptor_name == 'embedding':\n",
    "    embedding_optimizer = optim.Adam(text_descriptor.parameters(), lr=0.001)\n",
    "\n",
    "encoder_optimizer"
   ]
  },
  {
   "cell_type": "markdown",
   "metadata": {
    "pycharm": {
     "metadata": false,
     "name": "#%% md\n"
    }
   },
   "source": [
    "# initialize tensorboard logger"
   ]
  },
  {
   "cell_type": "code",
   "execution_count": 17,
   "metadata": {
    "pycharm": {
     "metadata": false,
     "name": "#%%\n"
    }
   },
   "outputs": [
    {
     "data": {
      "text/plain": [
       "<tensorboardX.writer.SummaryWriter at 0x7f3d41e8b9e8>"
      ]
     },
     "execution_count": 17,
     "metadata": {},
     "output_type": "execute_result"
    }
   ],
   "source": [
    "exp_name = '{}-{}'.format(text_descriptor_name, regression_model_name)\n",
    "datetime_str = datetime.datetime.now().strftime(\"%Y%m%d%H%M%S\")\n",
    "writer = SummaryWriter(logdir=os.path.join('./log/runs/', '{}-{}'.format(exp_name, datetime_str)))\n",
    "\n",
    "writer"
   ]
  },
  {
   "cell_type": "markdown",
   "metadata": {
    "pycharm": {
     "metadata": false
    }
   },
   "source": [
    "# Train Regression"
   ]
  },
  {
   "cell_type": "code",
   "execution_count": 19,
   "metadata": {
    "pycharm": {
     "metadata": false,
     "name": "#%%\n"
    }
   },
   "outputs": [
    {
     "name": "stdout",
     "output_type": "stream",
     "text": [
      "[[6, 76, 39, 22, -1, 39, -1, 145, -1], [6, 63, 109, 84, 120, 125, 128, 49, 46, -1, -1, 39, 144, -1], [6, 95, 125, 128, 49, 79, 85, -1, -1, 46, -1, 39, 144, -1], [7, -1, 64, 39, -1, -1, -1, -1, 130, 145, -1], [7, 34, 49, -1, 39, -1, 37, -1, 39, 93, -1, 37, -1, -1, -1, -1], [6, 38, -1, 37, 44, -1, 44, -1, 144, 96, 119, -1, -1, -1, 49, 46, -1], [6, 108, -1, 93, 125, 128, 49, 79, 104, -1, 39, 144, 17, 40, -1], [7, 114, -1, 49, -1, 37, 81, -1, 49, 145, -1], [0, -1, 39, 22, 39, -1, -1, 77, 10, 22, 49, 144, 28, 39, -1], [1, -1, 39, 22, 125, -1, 41, 40, -1, -1, 46, -1], [7, 91, 120, 132, 144, 139, -1, 86, 125, 55, 126, 49, 145, -1], [3, 62, 49, -1, 39, -1, -1, -1, 120, -1, 118, 145, -1], [-1, -1, -1, 39, -1, 39, -1, -1, -1, 49, 145, -1], [6, 69, -1, 136, 49, 145, -1, 49, 46, -1], [145, 110, 120, -1, 145, 138, 39, -1, 49, 145, 24, 39, 79, 32], [145, 91, 120, 132, 130, 145, -1, 39, 140, 86, -1, 67, -1, 49, 46, 9], [6, 61, 20, -1, 93, 120, -1, 49, 46, -1, 39, 79, -1], [7, 124, 39, 54, 37, 144, -1, -1, -1, -1], [6, 143, -1, 49, 79, -1, 49, 145, 24, 39, 79, 32], [6, 69, 39, 112, 78, -1, 144, 47, -1, 118, 46, 80, 39, 145, -1], [6, -1, 39, -1, -1, -1, -1, -1, 60, -1, -1, -1, -1], [-1, 39, -1, 74, 120, -1, 79, -1, 130, 46, -1], [7, 34, 37, 44, -1, -1, 145, -1], [-1, 111, 56, 49, 46, 131, -1, -1], [6, -1, 120, -1, 49, 79, -1], [-1, -1, -1, 120, 56, 49, 59, 39, 145, 146], [7, 91, 120, -1, 145, -1, -1, 49, 79, 104, 135, 39, 145, 113, 39, -1], [6, 69, 55, -1, 100, 145, 58, 41, 39, 144, -1], [6, -1, 120, 55, 126, 49, 145, -1], [6, -1, -1, 49, 144, 28, 39, -1], [6, -1, 120, -1, -1, 49, 145, -1, 39, -1], [-1, 39, -1, -1, -1, 49, 15, -1, -1, -1, 39, 145, -1], [109, -1, -1, 49, 145, -1, 39, -1, 55, 49, -1, 39, -1, 49, -1], [6, -1, 126, -1, 81, -1, -1, -1, -1, 144, -1], [145, 91, 120, 55, 39, 112, -1, 144, 139, -1], [-1, -1, -1, 49, 144, -1, 49, 46, -1, 10, 9, -1], [6, -1, 120, 125, 55, 149, -1, 49, 46, -1], [-1, -1, 49, -1, 49, 46, 28, 39, -1], [5, -1, 49, 46, 80, 39, 145, -1], [7, 91, 120, 132, 144, 101, -1, -1, 144, 69, -1], [145, 110, 120, -1, 49, 144, -1, 120, 132, 144, 101, -1], [0, 70, 39, 112, 49, 144, -1, -1, 144, -1], [144, 15, 37, 144, 65, 39, 111, 39, 112, 78, -1, -1], [6, -1, 55, 126, 78, -1, 144, -1], [6, -1, 49, 144, -1, 37, 79, 62, 39, 112, 12, 39, -1], [6, 69, 49, -1, 120, -1, 130, -1, 39, 151, 49, 46, -1], [6, -1, 39, 22, -1, 79, 110, 49, 46, -1, 55, -1, 46, -1], [1, -1, 74, 55, -1, 49, 46, 134, 37, 133, -1, 39, -1], [6, 109, -1, 87, 118, 79, -1, 37, 144, 61, 49, 46, -1], [-1, 39, -1, -1, -1, -1, -1, -1], [0, -1, -1, 39, 145, -1, 39, -1, 39, 79, -1, 37, -1, 10, -1], [7, 91, 120, 132, 145, -1, 39, -1], [6, -1, 74, -1, 118, 145, -1, 37, 82, -1, 39, 112, 49, 46, -1], [6, 63, -1, 55, -1, -1, 145, -1, 49, 46, -1], [7, 114, -1, 39, -1, -1, 46, -1, -1, -1], [7, -1, 19, 37, 145, 146, -1, 46, 31, 49, 46, -1], [-1, 39, 111, 77, 10, 22, 49, 144, 103, 41, 39, 82, -1], [-1, -1, 56, 49, 144, -1, -1, -1, -1], [7, -1, 39, 111, 39, 112, 49, 144, 103, 147, -1, -1, 77, 144, 75, 39, 43, -1], [7, 89, 37, 46, -1, 125, 51, -1, 49, 46, 80, 39, 79, -1], [7, 91, -1, -1, 39, -1, 145, 105, 39, 140], [7, 110, 39, 112, 78, -1, 144, 27, -1], [3, -1, 39, 144, 109, 55, 49, 144, -1, -1], [0, -1, 56, 39, 112, -1, 49, 79, -1], [6, 47, 52, 79, -1, 39, 145, -1, 37, 133, -1], [-1, -1, -1, 39, 47, -1, 49, 144, -1], [6, 15, -1, 39, -1, 49, 79, -1], [6, 38, 39, 18, 39, 79, -1, 37, 18, -1, -1, -1, -1, -1], [7, 85, -1, 39, -1, 40, -1, -1, 145, 110, 39, -1], [145, -1, 39, 144, 23, -1, 144, 47], [7, -1, 39, 53, 37, 144, -1, -1, -1, -1, -1], [6, -1, 39, 79, -1, 39, -1, 70, -1, 49, 79, 85, 39, 79, -1], [6, 69, 49, 144, 28, 39, 68, 77, 37, 145, -1, -1], [6, 95, -1, 118, 145, 24, 49, 145, -1], [144, 15, -1, 67, 46, 31, -1], [0, -1, -1, 49, 144, -1, 39, 35, -1], [-1, 111, 56, -1, 144, -1, 88, -1, 144, -1], [7, 110, 37, -1, 55, 39, 112, 130, 79, 94, -1], [6, 99, 39, -1, 120, -1, -1, -1, -1, 39, 79, -1], [0, -1, 120, -1, -1, -1, -1, 49, 145, -1], [7, 91, -1, 145, -1, 49, 144, 108, -1], [6, 61, 10, 80, 39, 144, -1, 39, 79, -1, 49, 144, -1], [0, -1, 26, 49, 46, 28, -1], [-1, -1, -1, -1, 56, -1, 49, 79, -1], [144, 38, 39, 18, 37, 144, -1, -1, 10, 80, 39, 79, -1], [-1, 144, -1, 39, 9, 120, 55, -1, -1, 39, -1], [-1, 55, 26, -1, 142, 39, 82, -1, 39, 8, -1], [7, 66, -1, -1, 120, 141, 144, 109, -1, 49, 46, 134, -1, 81, -1, 39, 144, -1], [6, 143, 125, -1, 67, 46, -1, 49, 144, -1, -1], [-1, 120, -1, 145, -1, -1, 86, 120, -1, 125, -1, 49, 46, -1, 120, -1, 46, -1], [-1, 120, -1, 39, -1, -1, 39, -1, 49, 144, 14, 123, 30, 39, 82, -1], [7, -1, 39, -1, 120, -1, 118, 145, -1], [7, -1, 39, 79, 117, 37, 79, 62, -1, -1, 23, 49, 46, -1], [145, 124, 39, 54, 37, -1, -1, 145, 85, -1, -1], [6, 95, 49, 144, 88, 49, 79, -1], [6, 65, 39, -1, 39, -1, 49, 144, 63, -1], [-1, 39, 82, -1, -1, 49, 144, -1, 30, 39, 145, 24, 39, 79, -1], [6, -1, -1, -1, 56, 49, 145, -1, 39, -1, 30, 39, 145, -1, 37, -1, 39, -1, 49, -1], [6, 76, 39, 140, -1, -1, 100, -1, 49, 144, -1], [7, 21, 39, -1, 93, 37, 151, 120, -1, 49, 79, 104, -1], [2, 145, 63, -1, 39, -1, 39, -1, 130, 79, 85], [6, -1, 39, -1, -1, -1, 49, 144, -1], [5, -1, 56, 77, 144, 75, 39, -1, -1, 59, -1, 145, -1], [7, -1, -1, 74, -1, 145, -1, 39, -1], [6, 108, -1, 51, -1, 49, 144, -1, -1, -1], [6, 61, 120, -1, 67, -1, 10, -1, 120, 128, 49, 144, -1], [7, -1, 39, -1, -1, 118, 79, -1], [-1, -1, 144, -1, 39, -1, 49, -1, 128, 10, 80, 39, 145, -1, 39, -1, -1, 144, -1, 39, 8, 49, 145, 138], [-1, -1, 39, -1, 39, -1, -1, 79, -1], [6, 61, 125, -1, 87, 67, -1, -1, 39, 79, -1, 39, 133, -1], [7, 34, 40, -1, 125, 51, -1, 144, -1, 39, 83, 39, -1], [-1, 49, 144, -1, 39, 140, 39, -1, -1, -1, 39, -1], [6, 95, 39, 112, 130, 79, -1, -1, -1, 145, -1, -1], [-1, 46, 18, -1, 144, -1, -1, -1, 46, -1], [6, 61, -1, 133, -1, 49, 144, -1, -1], [6, 61, 87, 67, -1, 86, 55, 126, 30, 39, 144, -1, 39, -1], [144, 63, 45, 120, 141, -1, -1, 37, 144, 122, 49, 79, 104, 135], [-1, -1, 26, 118, 144, -1, -1, 39, -1], [-1, -1, 130, 144, -1, 39, -1, -1, 79, 115, -1], [144, -1, -1, 39, 144, -1, 39, -1, 49, 145, 115], [1, 27, 39, -1, -1, -1, -1, 120, -1, 145, -1, 39, -1, -1, 79, -1, -1, 120, -1, -1, -1, -1, 120, -1], [7, 91, 125, 51, 49, 145, -1, -1, 133, -1], [2, 44, -1, 39, 79, 24, 49, 144, -1, -1], [6, 69, -1, 49, 79, 104, -1, 39, 145, 89, 118, 145, -1], [6, 65, 39, -1, 39, -1, 56, -1, 49, 79, -1], [6, 109, -1, -1, 144, 43, 148, 49, 46, -1], [144, 143, 39, -1, 39, -1, -1, -1, 118, 144, -1, 118, 11, 151], [6, 65, 39, 111, 77, 10, 140, 49, 145, -1, 39, -1], [7, -1, 49, 20, 37, 46, -1, 93, -1, -1], [-1, 120, 125, -1, -1, -1, 39, -1, 79, 71, 39, -1, 49, 79, -1, 39, -1], [0, -1, 49, 144, 28, 39, 140, 39, -1], [144, 69, -1, 49, 145, 138, 39, 136, 49, 46, -1], [7, -1, -1, 92, -1, 37, 145, 138, 39, -1], [6, -1, 39, -1, -1, -1, 99, 39, -1], [-1, 6, -1, 73, -1, -1, -1], [6, 69, 120, -1, 145, -1, 49, -1, 39, 144, 109, 30, 39, 145, -1, 39, 8], [6, -1, 125, 51, 49, 145, -1, 39, -1, 37, -1, 118, -1], [7, 115, 19, 37, 144, -1, 49, 144, -1, -1, 80, 39, -1, -1], [0, -1, 39, 22, 37, 144, -1, -1, 82, -1, 39, 75], [-1, 79, -1, 39, 145, -1, 49, 79, 124, 39, -1], [7, -1, -1, -1, 133, -1, -1, 118, 144, -1], [-1, 81, 111, -1, 81, -1, -1, 82, -1, 37, 46, -1], [7, 91, 52, 79, -1, 39, 79, -1, 39, 144, 69, -1], [4, -1, 39, 22, 56, 77, 22, 49, 144, 28, 39, -1], [6, 69, 39, 112, 78, -1, 144, 108, 15, -1], [6, 61, -1, -1, -1, 126, 49, 46, -1, 39, 144, -1], [6, 69, 125, -1, -1, 39, 79, -1, 49, 144, -1, 39, -1], [6, -1, 138, 39, 136, 120, -1, 49, 46, -1, 39, 145, -1], [-1, 39, -1, 120, 125, -1, 41, 39, 144, 23], [7, -1, 39, -1, -1, 49, -1, 49, -1], [6, 69, 49, 144, -1, 20, -1, 145, 114, 49, 145, -1, 39, -1], [6, -1, -1, 144, -1, 49, 79, -1, 86, 120, 98, -1, -1, -1, 79, -1], [7, 110, 120, -1, 144, -1, 49, 144, 88, 49, 20, -1, -1], [144, 95, 108, 49, 144, -1, 39, 112, 49, 144, -1], [7, 91, 90, -1, 82, -1, -1, -1, 10, -1], [6, 69, -1, 145, 91, 39, -1, 49, 79, -1, -1], [6, 96, 119, 37, 145, 58, 39, -1, 49, -1], [3, 91, -1, 55, -1, 10, 95, 144, -1, 86, 125, -1, 46, -1], [6, 69, 39, 112, 41, 39, 144, -1, -1, 118, -1], [7, 58, 39, 80, 39, 145, 113, 39, 79, 91, 39, -1], [6, 38, 39, 18, 20, 37, 144, -1, -1, -1, -1, -1, 39, -1], [6, 65, 39, -1, 126, 42, 39, 144, -1, 49, 79, -1], [6, 143, 125, -1, 49, 145, -1, 39, -1], [7, 115, 37, 144, -1, 10, -1, -1, 39, -1, 49, -1, 120, 141, 46, -1, -1, -1, 145, -1], [7, -1, 39, 144, -1, 126, 49, 145, -1, 39, -1, 39, -1], [0, -1, 125, -1, -1, -1, 49, 144, 28, 39, 68, 86, -1, 137, -1], [6, -1, 39, -1, -1, 49, 46, -1, -1, 49, 79, 32], [-1, 111, 49, 144, -1, -1, -1, -1], [-1, -1, -1, -1, 49, 145, -1, 37, 111, 120, -1], [6, 99, 39, -1, 39, 106, 120, 56, -1], [7, 110, 141, -1, -1, 39, -1, 49, 133, -1], [7, 110, 74, 126, 49, 145, 85, 37, 144, -1, 39, -1], [-1, -1, 133, -1, -1, -1, 79, -1, 130, 79, 30], [6, 69, 49, 133, -1, 120, 52, -1, 118, 144, -1], [6, 99, 39, -1, 26, 118, 79, -1], [6, 61, 120, 125, 128, 49, 144, -1, 49, 145, 85, 37, -1], [6, -1, 39, -1, 37, 66, 42, 39, -1, 39, -1], [-1, -1, 39, 144, 69, 120, -1, 144, -1, 49, 144, 88], [6, 65, 39, 70, 39, 112, -1, 10, 80, 40, 98, 49, 145, -1], [6, -1, 37, -1, -1, 141, 44, -1, -1], [6, 69, -1, 49, 145, -1, 40, -1, 30, 39, 144, 109, -1, 98, 69, 39, -1, 145, -1], [-1, 52, 145, -1, 37, 79, -1, -1, 49, -1, -1, -1], [-1, 39, 106, 42, 39, 144, -1, 39, 79, -1, 64], [6, 116, 20, 37, 145, -1, 39, 114, -1, 49, -1], [-1, -1, -1, -1, 60, 30, 39, 144, -1], [3, 39, 20, 52, -1, 79, 105, 86, 120, 82, 120, 56, 49, 93, 125, 56, -1], [144, 14, 39, 44, -1, 37, 11, -1, 49, 152], [6, 76, 39, 22, 39, 82, -1, 125, 55, -1, -1, 79, -1], [6, 38, 39, 18, -1, -1, -1, 37, -1, -1], [7, 73, -1, -1, -1, 78, -1, 144, -1, 49, 144, -1], [7, -1, -1, -1, 132, 144, 139, -1, 100, -1, 145, 71, 39, -1, 49, 46, -1], [7, -1, 39, 114, -1, 49, 144, 116, 49, 145, 85, 39, -1], [7, -1, 120, 132, 46, 112, -1, 100, -1, -1, 49, 144, -1, 49, 79, -1, 39, 79, -1], [7, -1, 39, 111, -1, 37, -1, 39, -1, 49, 46, -1, -1], [6, 76, 39, 22, -1, -1, 145, 105, 39, 22, -1, 144, -1], [3, 63, -1, 49, 79, 115, 39, 35, -1], [6, 61, -1, 49, 145, -1, 49, 79, -1, 40, -1, 39, -1], [7, -1, 39, 145, 110, -1, -1, -1, 49, 145, -1, 39, -1], [6, 38, 39, 18, -1, 93, 37, -1, 39, -1], [6, 35, -1, -1, -1, 18, 92, -1]]\n"
     ]
    },
    {
     "ename": "ValueError",
     "evalue": "expected sequence of length 9 at dim 1 (got 14)",
     "output_type": "error",
     "traceback": [
      "\u001b[0;31m---------------------------------------------------------------------------\u001b[0m",
      "\u001b[0;31mValueError\u001b[0m                                Traceback (most recent call last)",
      "\u001b[0;32m<ipython-input-19-15c606645d84>\u001b[0m in \u001b[0;36m<module>\u001b[0;34m\u001b[0m\n\u001b[1;32m     12\u001b[0m                     \u001b[0midx_texts\u001b[0m \u001b[0;34m=\u001b[0m \u001b[0mtext_descriptor\u001b[0m\u001b[0;34m.\u001b[0m\u001b[0mword_to_idx\u001b[0m\u001b[0;34m(\u001b[0m\u001b[0mcaptions\u001b[0m\u001b[0;34m)\u001b[0m\u001b[0;34m\u001b[0m\u001b[0m\n\u001b[1;32m     13\u001b[0m                     \u001b[0mprint\u001b[0m\u001b[0;34m(\u001b[0m\u001b[0midx_texts\u001b[0m\u001b[0;34m)\u001b[0m\u001b[0;34m\u001b[0m\u001b[0m\n\u001b[0;32m---> 14\u001b[0;31m                     \u001b[0midx_texts\u001b[0m \u001b[0;34m=\u001b[0m \u001b[0mtorch\u001b[0m\u001b[0;34m.\u001b[0m\u001b[0mLongTensor\u001b[0m\u001b[0;34m(\u001b[0m\u001b[0midx_texts\u001b[0m\u001b[0;34m)\u001b[0m\u001b[0;34m\u001b[0m\u001b[0m\n\u001b[0m\u001b[1;32m     15\u001b[0m                     \u001b[0mdescriptors\u001b[0m \u001b[0;34m=\u001b[0m \u001b[0mtext_descriptor\u001b[0m\u001b[0;34m(\u001b[0m\u001b[0midx_texts\u001b[0m\u001b[0;34m)\u001b[0m\u001b[0;34m\u001b[0m\u001b[0m\n\u001b[1;32m     16\u001b[0m                     \u001b[0mencodes\u001b[0m \u001b[0;34m=\u001b[0m \u001b[0mregression_model\u001b[0m\u001b[0;34m(\u001b[0m\u001b[0mdescriptors\u001b[0m\u001b[0;34m)\u001b[0m\u001b[0;34m\u001b[0m\u001b[0m\n",
      "\u001b[0;31mValueError\u001b[0m: expected sequence of length 9 at dim 1 (got 14)"
     ]
    }
   ],
   "source": [
    "epochs = 100\n",
    "for e in range(epochs):\n",
    "    print\n",
    "    for phase in phases:\n",
    "        loss_count = 0\n",
    "        for i, (images_names, visual_feats, captions) in enumerate(loaders[phase]):\n",
    "            with torch.set_grad_enabled(phase == 'train'):\n",
    "                if regression_model_name == 'mlp':\n",
    "                    descriptors = text_descriptor.transform(captions)\n",
    "                    encodes = regression_model(descriptors)\n",
    "                elif regression_model_name == 'rnn':\n",
    "                    idx_texts = text_descriptor.word_to_idx(captions)\n",
    "                    print(idx_texts)\n",
    "                    idx_texts = torch.LongTensor(idx_texts)\n",
    "                    descriptors = text_descriptor(idx_texts)\n",
    "                    encodes = regression_model(descriptors)\n",
    "            \n",
    "                # Evaluate the loss function\n",
    "                loss = criterion(encodes, visual_feats)\n",
    "    \n",
    "            if phase == 'train':\n",
    "                loss.backward()\n",
    "                encoder_optimizer.step()\n",
    "                if regression_model_name == 'rnn':\n",
    "                    embedding_optimizer.step()\n",
    "            \n",
    "            loss_count += loss.item()\n",
    "            writer.add_scalar('{}-loss'.format(phase), loss, e * len(loaders[phase]) + i)\n"
   ]
  },
  {
   "cell_type": "code",
   "execution_count": 18,
   "metadata": {},
   "outputs": [
    {
     "ename": "KeyError",
     "evalue": "'muchacho'",
     "output_type": "error",
     "traceback": [
      "\u001b[0;31m---------------------------------------------------------------------------\u001b[0m",
      "\u001b[0;31mKeyError\u001b[0m                                  Traceback (most recent call last)",
      "\u001b[0;32m<ipython-input-18-463c7afcc736>\u001b[0m in \u001b[0;36m<module>\u001b[0;34m\u001b[0m\n\u001b[0;32m----> 1\u001b[0;31m \u001b[0mtext_descriptor\u001b[0m\u001b[0;34m.\u001b[0m\u001b[0mcv\u001b[0m\u001b[0;34m.\u001b[0m\u001b[0mvocabulary_\u001b[0m\u001b[0;34m[\u001b[0m\u001b[0;34m'muchacho'\u001b[0m\u001b[0;34m]\u001b[0m\u001b[0;34m\u001b[0m\u001b[0m\n\u001b[0m",
      "\u001b[0;31mKeyError\u001b[0m: 'muchacho'"
     ]
    }
   ],
   "source": [
    "text_descriptor.cv.vocabulary_['muchacho']"
   ]
  }
 ],
 "metadata": {
  "kernelspec": {
   "display_name": "Python 3",
   "language": "python",
   "name": "python3"
  },
  "language_info": {
   "codemirror_mode": {
    "name": "ipython",
    "version": 3
   },
   "file_extension": ".py",
   "mimetype": "text/x-python",
   "name": "python",
   "nbconvert_exporter": "python",
   "pygments_lexer": "ipython3",
   "version": "3.6.6"
  },
  "stem_cell": {
   "cell_type": "raw",
   "metadata": {
    "pycharm": {
     "metadata": false
    }
   },
   "source": ""
  }
 },
 "nbformat": 4,
 "nbformat_minor": 2
}
